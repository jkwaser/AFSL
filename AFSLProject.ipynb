{
 "cells": [
  {
   "cell_type": "markdown",
   "metadata": {},
   "source": [
    "I am aiming to use ASIC-provided data on Australian Financial Service Licensees (AFSLs) as well as data on Authorised Representatives (ARs) of these AFSLs, and data on Financial Advisers (FAs) specially to look at trends among AFSLs and advisers. Data provided is from data.gov.au and is updated monthly by ASIC."
   ]
  },
  {
   "cell_type": "code",
   "execution_count": 2,
   "metadata": {},
   "outputs": [],
   "source": [
    "import numpy as np\n",
    "import pandas as pd\n",
    "import matplotlib.pyplot as plt\n",
    "import seaborn as sns\n",
    "import datetime as dt"
   ]
  },
  {
   "cell_type": "code",
   "execution_count": 3,
   "metadata": {},
   "outputs": [],
   "source": [
    "FA2020Apr = pd.read_csv(\"/home/jack/AFS/FA2020Apr.csv\", encoding= 'unicode_escape', \n",
    "                        dtype = {\"LICENCE_ABN\" : \"str\"})"
   ]
  },
  {
   "cell_type": "code",
   "execution_count": 4,
   "metadata": {},
   "outputs": [
    {
     "data": {
      "text/html": [
       "<div>\n",
       "<style scoped>\n",
       "    .dataframe tbody tr th:only-of-type {\n",
       "        vertical-align: middle;\n",
       "    }\n",
       "\n",
       "    .dataframe tbody tr th {\n",
       "        vertical-align: top;\n",
       "    }\n",
       "\n",
       "    .dataframe thead th {\n",
       "        text-align: right;\n",
       "    }\n",
       "</style>\n",
       "<table border=\"1\" class=\"dataframe\">\n",
       "  <thead>\n",
       "    <tr style=\"text-align: right;\">\n",
       "      <th></th>\n",
       "      <th>ADV_NAME</th>\n",
       "      <th>ADV_NUMBER</th>\n",
       "      <th>ADV_ROLE_STATUS</th>\n",
       "      <th>ADV_FIRST_PROVIDED_ADVICE</th>\n",
       "      <th>LICENCE_NAME</th>\n",
       "      <th>LICENCE_NUMBER</th>\n",
       "      <th>LICENCE_ABN</th>\n",
       "      <th>LICENCE_CONTROLLED_BY</th>\n",
       "      <th>ADV_START_DT</th>\n",
       "      <th>ADV_END_DT</th>\n",
       "    </tr>\n",
       "  </thead>\n",
       "  <tbody>\n",
       "    <tr>\n",
       "      <th>0</th>\n",
       "      <td>JOHN PETER CORNIPS</td>\n",
       "      <td>221137</td>\n",
       "      <td>Ceased</td>\n",
       "      <td>1987.0</td>\n",
       "      <td>BJT FINANCIAL PLANNING PTY. LTD.</td>\n",
       "      <td>219548</td>\n",
       "      <td>25005620824</td>\n",
       "      <td>NaN</td>\n",
       "      <td>04/06/02</td>\n",
       "      <td>05/04/17</td>\n",
       "    </tr>\n",
       "    <tr>\n",
       "      <th>1</th>\n",
       "      <td>MATTHEW DOUGLAS ROWE</td>\n",
       "      <td>221893</td>\n",
       "      <td>Ceased</td>\n",
       "      <td>1998.0</td>\n",
       "      <td>HOOD SWEENEY SECURITIES PTY LTD</td>\n",
       "      <td>220897</td>\n",
       "      <td>40081455165</td>\n",
       "      <td>NaN</td>\n",
       "      <td>10/07/02</td>\n",
       "      <td>01/01/16</td>\n",
       "    </tr>\n",
       "    <tr>\n",
       "      <th>2</th>\n",
       "      <td>JULIAN ANDREW SUMMERS</td>\n",
       "      <td>221931</td>\n",
       "      <td>Ceased</td>\n",
       "      <td>2002.0</td>\n",
       "      <td>CHARTER FINANCIAL PLANNING LIMITED</td>\n",
       "      <td>234665</td>\n",
       "      <td>35002976294</td>\n",
       "      <td>AMP ADVICE HOLDINGS PTY LTD ~ AMP LIMITED [Dat...</td>\n",
       "      <td>07/08/06</td>\n",
       "      <td>31/01/19</td>\n",
       "    </tr>\n",
       "    <tr>\n",
       "      <th>3</th>\n",
       "      <td>CHERYL STORRS</td>\n",
       "      <td>221932</td>\n",
       "      <td>Ceased</td>\n",
       "      <td>1997.0</td>\n",
       "      <td>FINANCIAL WISDOM LIMITED</td>\n",
       "      <td>231138</td>\n",
       "      <td>70006646108</td>\n",
       "      <td>COMMONWEALTH BANK OF AUSTRALIA</td>\n",
       "      <td>26/04/05</td>\n",
       "      <td>17/06/19</td>\n",
       "    </tr>\n",
       "    <tr>\n",
       "      <th>4</th>\n",
       "      <td>BERNARD MARTIN</td>\n",
       "      <td>222020</td>\n",
       "      <td>Current</td>\n",
       "      <td>1970.0</td>\n",
       "      <td>RESPECT FINANCIAL SERVICES PTY LTD</td>\n",
       "      <td>508000</td>\n",
       "      <td>80624859758</td>\n",
       "      <td>David Paul  THURBON</td>\n",
       "      <td>26/02/19</td>\n",
       "      <td>NaN</td>\n",
       "    </tr>\n",
       "  </tbody>\n",
       "</table>\n",
       "</div>"
      ],
      "text/plain": [
       "                ADV_NAME  ADV_NUMBER ADV_ROLE_STATUS  \\\n",
       "0     JOHN PETER CORNIPS      221137          Ceased   \n",
       "1   MATTHEW DOUGLAS ROWE      221893          Ceased   \n",
       "2  JULIAN ANDREW SUMMERS      221931          Ceased   \n",
       "3          CHERYL STORRS      221932          Ceased   \n",
       "4         BERNARD MARTIN      222020         Current   \n",
       "\n",
       "   ADV_FIRST_PROVIDED_ADVICE                        LICENCE_NAME  \\\n",
       "0                     1987.0    BJT FINANCIAL PLANNING PTY. LTD.   \n",
       "1                     1998.0     HOOD SWEENEY SECURITIES PTY LTD   \n",
       "2                     2002.0  CHARTER FINANCIAL PLANNING LIMITED   \n",
       "3                     1997.0            FINANCIAL WISDOM LIMITED   \n",
       "4                     1970.0  RESPECT FINANCIAL SERVICES PTY LTD   \n",
       "\n",
       "   LICENCE_NUMBER  LICENCE_ABN  \\\n",
       "0          219548  25005620824   \n",
       "1          220897  40081455165   \n",
       "2          234665  35002976294   \n",
       "3          231138  70006646108   \n",
       "4          508000  80624859758   \n",
       "\n",
       "                               LICENCE_CONTROLLED_BY ADV_START_DT ADV_END_DT  \n",
       "0                                                NaN     04/06/02   05/04/17  \n",
       "1                                                NaN     10/07/02   01/01/16  \n",
       "2  AMP ADVICE HOLDINGS PTY LTD ~ AMP LIMITED [Dat...     07/08/06   31/01/19  \n",
       "3                     COMMONWEALTH BANK OF AUSTRALIA     26/04/05   17/06/19  \n",
       "4                                David Paul  THURBON     26/02/19        NaN  "
      ]
     },
     "execution_count": 4,
     "metadata": {},
     "output_type": "execute_result"
    }
   ],
   "source": [
    "\n",
    "FA2020Apr.head() # Checking to see if csv has imported properly"
   ]
  },
  {
   "cell_type": "code",
   "execution_count": 5,
   "metadata": {},
   "outputs": [
    {
     "data": {
      "text/plain": [
       "ADV_NAME                      object\n",
       "ADV_NUMBER                     int64\n",
       "ADV_ROLE_STATUS               object\n",
       "ADV_FIRST_PROVIDED_ADVICE    float64\n",
       "LICENCE_NAME                  object\n",
       "LICENCE_NUMBER                 int64\n",
       "LICENCE_ABN                   object\n",
       "LICENCE_CONTROLLED_BY         object\n",
       "ADV_START_DT                  object\n",
       "ADV_END_DT                    object\n",
       "dtype: object"
      ]
     },
     "execution_count": 5,
     "metadata": {},
     "output_type": "execute_result"
    }
   ],
   "source": [
    "FA2020Apr.dtypes # Some of these are fine. Dates are objects, though."
   ]
  },
  {
   "cell_type": "code",
   "execution_count": 6,
   "metadata": {},
   "outputs": [],
   "source": [
    "#Renaming columns for readability\n",
    "FA2020Apr.rename(columns={'ADV_NAME' : 'Name', 'ADV_NUMBER' : 'Adviser Number', 'ADV_ROLE_STATUS' : 'Current/Ceased',\n",
    "                          'ADV_FIRST_PROVIDED_ADVICE' : 'First Provided Advice', 'LICENCE_NAME' : 'Licensee',\n",
    "                          'LICENCE_NUMBER' : 'AFS License Number', 'LICENCE_ABN' : 'AFSL ABN',\n",
    "                          'LICENCE_CONTROLLED_BY' : 'Licensee Controller', 'ADV_START_DT' : 'Start Date',\n",
    "                          'ADV_END_DT' : 'End Date',\n",
    "                          'ADV_END_DT' : 'End Date', }, inplace=True)\n",
    "\n"
   ]
  },
  {
   "cell_type": "code",
   "execution_count": 7,
   "metadata": {},
   "outputs": [
    {
     "data": {
      "text/html": [
       "<div>\n",
       "<style scoped>\n",
       "    .dataframe tbody tr th:only-of-type {\n",
       "        vertical-align: middle;\n",
       "    }\n",
       "\n",
       "    .dataframe tbody tr th {\n",
       "        vertical-align: top;\n",
       "    }\n",
       "\n",
       "    .dataframe thead th {\n",
       "        text-align: right;\n",
       "    }\n",
       "</style>\n",
       "<table border=\"1\" class=\"dataframe\">\n",
       "  <thead>\n",
       "    <tr style=\"text-align: right;\">\n",
       "      <th></th>\n",
       "      <th>Name</th>\n",
       "      <th>Adviser Number</th>\n",
       "      <th>Current/Ceased</th>\n",
       "      <th>First Provided Advice</th>\n",
       "      <th>Licensee</th>\n",
       "      <th>AFS License Number</th>\n",
       "      <th>AFSL ABN</th>\n",
       "      <th>Licensee Controller</th>\n",
       "      <th>Start Date</th>\n",
       "      <th>End Date</th>\n",
       "    </tr>\n",
       "  </thead>\n",
       "  <tbody>\n",
       "    <tr>\n",
       "      <th>0</th>\n",
       "      <td>JOHN PETER CORNIPS</td>\n",
       "      <td>221137</td>\n",
       "      <td>Ceased</td>\n",
       "      <td>1987.0</td>\n",
       "      <td>BJT FINANCIAL PLANNING PTY. LTD.</td>\n",
       "      <td>219548</td>\n",
       "      <td>25005620824</td>\n",
       "      <td>NaN</td>\n",
       "      <td>04/06/02</td>\n",
       "      <td>05/04/17</td>\n",
       "    </tr>\n",
       "    <tr>\n",
       "      <th>1</th>\n",
       "      <td>MATTHEW DOUGLAS ROWE</td>\n",
       "      <td>221893</td>\n",
       "      <td>Ceased</td>\n",
       "      <td>1998.0</td>\n",
       "      <td>HOOD SWEENEY SECURITIES PTY LTD</td>\n",
       "      <td>220897</td>\n",
       "      <td>40081455165</td>\n",
       "      <td>NaN</td>\n",
       "      <td>10/07/02</td>\n",
       "      <td>01/01/16</td>\n",
       "    </tr>\n",
       "    <tr>\n",
       "      <th>2</th>\n",
       "      <td>JULIAN ANDREW SUMMERS</td>\n",
       "      <td>221931</td>\n",
       "      <td>Ceased</td>\n",
       "      <td>2002.0</td>\n",
       "      <td>CHARTER FINANCIAL PLANNING LIMITED</td>\n",
       "      <td>234665</td>\n",
       "      <td>35002976294</td>\n",
       "      <td>AMP ADVICE HOLDINGS PTY LTD ~ AMP LIMITED [Dat...</td>\n",
       "      <td>07/08/06</td>\n",
       "      <td>31/01/19</td>\n",
       "    </tr>\n",
       "    <tr>\n",
       "      <th>3</th>\n",
       "      <td>CHERYL STORRS</td>\n",
       "      <td>221932</td>\n",
       "      <td>Ceased</td>\n",
       "      <td>1997.0</td>\n",
       "      <td>FINANCIAL WISDOM LIMITED</td>\n",
       "      <td>231138</td>\n",
       "      <td>70006646108</td>\n",
       "      <td>COMMONWEALTH BANK OF AUSTRALIA</td>\n",
       "      <td>26/04/05</td>\n",
       "      <td>17/06/19</td>\n",
       "    </tr>\n",
       "    <tr>\n",
       "      <th>4</th>\n",
       "      <td>BERNARD MARTIN</td>\n",
       "      <td>222020</td>\n",
       "      <td>Current</td>\n",
       "      <td>1970.0</td>\n",
       "      <td>RESPECT FINANCIAL SERVICES PTY LTD</td>\n",
       "      <td>508000</td>\n",
       "      <td>80624859758</td>\n",
       "      <td>David Paul  THURBON</td>\n",
       "      <td>26/02/19</td>\n",
       "      <td>NaN</td>\n",
       "    </tr>\n",
       "  </tbody>\n",
       "</table>\n",
       "</div>"
      ],
      "text/plain": [
       "                    Name  Adviser Number Current/Ceased  \\\n",
       "0     JOHN PETER CORNIPS          221137         Ceased   \n",
       "1   MATTHEW DOUGLAS ROWE          221893         Ceased   \n",
       "2  JULIAN ANDREW SUMMERS          221931         Ceased   \n",
       "3          CHERYL STORRS          221932         Ceased   \n",
       "4         BERNARD MARTIN          222020        Current   \n",
       "\n",
       "   First Provided Advice                            Licensee  \\\n",
       "0                 1987.0    BJT FINANCIAL PLANNING PTY. LTD.   \n",
       "1                 1998.0     HOOD SWEENEY SECURITIES PTY LTD   \n",
       "2                 2002.0  CHARTER FINANCIAL PLANNING LIMITED   \n",
       "3                 1997.0            FINANCIAL WISDOM LIMITED   \n",
       "4                 1970.0  RESPECT FINANCIAL SERVICES PTY LTD   \n",
       "\n",
       "   AFS License Number     AFSL ABN  \\\n",
       "0              219548  25005620824   \n",
       "1              220897  40081455165   \n",
       "2              234665  35002976294   \n",
       "3              231138  70006646108   \n",
       "4              508000  80624859758   \n",
       "\n",
       "                                 Licensee Controller Start Date  End Date  \n",
       "0                                                NaN   04/06/02  05/04/17  \n",
       "1                                                NaN   10/07/02  01/01/16  \n",
       "2  AMP ADVICE HOLDINGS PTY LTD ~ AMP LIMITED [Dat...   07/08/06  31/01/19  \n",
       "3                     COMMONWEALTH BANK OF AUSTRALIA   26/04/05  17/06/19  \n",
       "4                                David Paul  THURBON   26/02/19       NaN  "
      ]
     },
     "execution_count": 7,
     "metadata": {},
     "output_type": "execute_result"
    }
   ],
   "source": [
    "FA2020Apr.head() # Checking to see if all looks ok"
   ]
  },
  {
   "cell_type": "code",
   "execution_count": 8,
   "metadata": {},
   "outputs": [
    {
     "data": {
      "text/plain": [
       "Ceased     46396\n",
       "Current    23489\n",
       "Name: Current/Ceased, dtype: int64"
      ]
     },
     "execution_count": 8,
     "metadata": {},
     "output_type": "execute_result"
    }
   ],
   "source": [
    "# Important to get a notion of how many of these records are ceased records.\n",
    "CurrentCounts = FA2020Apr['Current/Ceased'].value_counts()\n",
    "CurrentCounts\n"
   ]
  },
  {
   "cell_type": "code",
   "execution_count": 9,
   "metadata": {},
   "outputs": [
    {
     "name": "stderr",
     "output_type": "stream",
     "text": [
      "/home/jack/anaconda3/lib/python3.7/site-packages/numpy/lib/histograms.py:839: RuntimeWarning: invalid value encountered in greater_equal\n",
      "  keep = (tmp_a >= first_edge)\n",
      "/home/jack/anaconda3/lib/python3.7/site-packages/numpy/lib/histograms.py:840: RuntimeWarning: invalid value encountered in less_equal\n",
      "  keep &= (tmp_a <= last_edge)\n"
     ]
    },
    {
     "data": {
      "image/png": "[encoded data removed]",
      "text/plain": [
       "<Figure size 432x288 with 1 Axes>"
      ]
     },
     "metadata": {
      "needs_background": "light"
     },
     "output_type": "display_data"
    }
   ],
   "source": [
    "# Here the year at which advisers were first registered looks fairly monotonic \n",
    "# - there are some flat parts but it tends to increase. 2017-2020 does look fairly low, though.\n",
    "# Not why this throws an error, but works.\n",
    "first_advice = plt.hist(FA2020Apr['First Provided Advice'], bins = 10, \n",
    "                        range=(1981, 2020))\n",
    "\n"
   ]
  },
  {
   "cell_type": "code",
   "execution_count": 10,
   "metadata": {},
   "outputs": [
    {
     "data": {
      "image/png": "[encoded data removed]",
      "text/plain": [
       "<Figure size 432x288 with 1 Axes>"
      ]
     },
     "metadata": {
      "needs_background": "light"
     },
     "output_type": "display_data"
    }
   ],
   "source": [
    "# by making a bin 2 years in size rather than 4 we see there is a substantial falloff as we move towards 2019-2020.\n",
    "# The number of new advisers registered in 2019 and 2020 compared to those registered in the past years.\n",
    "first_advice = plt.hist(FA2020Apr['First Provided Advice'], bins = 20, range=(1981, 2020.0))\n"
   ]
  },
  {
   "cell_type": "code",
   "execution_count": 11,
   "metadata": {},
   "outputs": [
    {
     "data": {
      "image/png": "[encoded data removed]",
      "text/plain": [
       "<Figure size 432x288 with 1 Axes>"
      ]
     },
     "metadata": {
      "needs_background": "light"
     },
     "output_type": "display_data"
    }
   ],
   "source": [
    "# Each year now has its own bin. 2019 and 2020 are virtually nonexistant, whereas 2018 seems to have seen a rush.\n",
    "# Correlation is of course not causation, but it's not unreasonable to see this massive falloff as a result of the FASEA reforms\n",
    "# coming into play on 1 January 2019. Looking at the below we can see 2019 had the least advisers registered for the first time\n",
    "\n",
    "first_advice = plt.hist(FA2020Apr['First Provided Advice'], bins = 40, range=(1981, 2020.0))"
   ]
  },
  {
   "cell_type": "code",
   "execution_count": 12,
   "metadata": {},
   "outputs": [],
   "source": [
    "# Of course, the above is for every adviser record - both ceased and current. To draw a more reasonable picture of the scenario\n",
    "# we'd be better off looking at current records only\n",
    "\n",
    "notnull = FA2020Apr[FA2020Apr[\"First Provided Advice\"].notnull()]\n",
    "current_adviser_firsts = notnull.loc[notnull[\"Current/Ceased\"] == 'Current', \"First Provided Advice\"]\n",
    "\n"
   ]
  },
  {
   "cell_type": "code",
   "execution_count": 13,
   "metadata": {},
   "outputs": [
    {
     "data": {
      "text/plain": [
       "4        1970.0\n",
       "9        1993.0\n",
       "10       1997.0\n",
       "17       2000.0\n",
       "20       1997.0\n",
       "          ...  \n",
       "69845    2020.0\n",
       "69867    2002.0\n",
       "69873    2020.0\n",
       "69875    2002.0\n",
       "69884    2017.0\n",
       "Name: First Provided Advice, Length: 23482, dtype: float64"
      ]
     },
     "execution_count": 13,
     "metadata": {},
     "output_type": "execute_result"
    }
   ],
   "source": [
    "current_adviser_firsts"
   ]
  },
  {
   "cell_type": "code",
   "execution_count": 14,
   "metadata": {},
   "outputs": [
    {
     "data": {
      "image/png": "[encoded data removed]",
      "text/plain": [
       "<Figure size 432x288 with 1 Axes>"
      ]
     },
     "metadata": {
      "needs_background": "light"
     },
     "output_type": "display_data"
    }
   ],
   "source": [
    "first_advice = plt.hist(current_adviser_firsts, bins = 40, range=(1981, 2020))"
   ]
  },
  {
   "cell_type": "code",
   "execution_count": 15,
   "metadata": {},
   "outputs": [
    {
     "data": {
      "text/plain": [
       "2018.0    2990\n",
       "2016.0    2019\n",
       "2017.0    1352\n",
       "2004.0    1033\n",
       "2015.0     973\n",
       "2008.0     873\n",
       "2003.0     866\n",
       "2007.0     840\n",
       "2014.0     801\n",
       "2005.0     791\n",
       "2006.0     773\n",
       "2000.0     729\n",
       "2011.0     724\n",
       "2010.0     701\n",
       "2012.0     684\n",
       "2013.0     669\n",
       "1999.0     645\n",
       "2001.0     643\n",
       "2009.0     632\n",
       "2002.0     567\n",
       "1998.0     546\n",
       "1997.0     396\n",
       "1996.0     368\n",
       "1994.0     302\n",
       "1995.0     281\n",
       "1987.0     239\n",
       "1989.0     208\n",
       "1990.0     204\n",
       "1992.0     190\n",
       "1988.0     185\n",
       "1993.0     176\n",
       "1991.0     164\n",
       "1986.0     155\n",
       "1985.0     132\n",
       "1984.0      89\n",
       "1983.0      84\n",
       "1982.0      66\n",
       "2019.0      65\n",
       "1980.0      51\n",
       "1981.0      47\n",
       "1979.0      32\n",
       "1972.0      22\n",
       "1977.0      20\n",
       "1976.0      20\n",
       "1978.0      19\n",
       "1970.0      19\n",
       "1974.0      17\n",
       "1975.0      16\n",
       "1971.0      13\n",
       "1969.0      11\n",
       "1973.0      10\n",
       "1968.0       8\n",
       "1965.0       6\n",
       "1967.0       5\n",
       "2020.0       4\n",
       "1964.0       2\n",
       "1963.0       2\n",
       "1959.0       1\n",
       "1955.0       1\n",
       "1966.0       1\n",
       "Name: First Provided Advice, dtype: int64"
      ]
     },
     "execution_count": 15,
     "metadata": {},
     "output_type": "execute_result"
    }
   ],
   "source": [
    "current_adviser_firsts.value_counts()"
   ]
  },
  {
   "cell_type": "markdown",
   "metadata": {},
   "source": [
    "Some expected reslts here. While 2019-2020 remain very low, by restricting our results to only current advisers we see a comparatively smaller set of advisers who had started in the 80s and 90s, this only serves to highlight the tremendous falloff in 2019. It only takes into account advisers who are still current, though - the lower adviser numbers in 1980 are in part artefacts of restricting the set to current advisers -  an adviser who joined the industry at 25 in 1980 would be 65 today - a tremendous cohort of those advisers will have retired. \n",
    "\n",
    "Still, much of this is likely incompleteness in the data set - it seems unlikely there was only 1 practicing adviser in 1966. The earlier we try and draw conclusions from this data the less reliable it is likely to be."
   ]
  },
  {
   "cell_type": "code",
   "execution_count": 16,
   "metadata": {},
   "outputs": [
    {
     "name": "stdout",
     "output_type": "stream",
     "text": [
      "2203\n"
     ]
    },
    {
     "data": {
      "text/plain": [
       "AMP FINANCIAL PLANNING PTY LIMITED          1097\n",
       "SMSF ADVISERS NETWORK PTY LTD                878\n",
       "CHARTER FINANCIAL PLANNING LIMITED           552\n",
       "SYNCHRONISED BUSINESS SERVICES PTY LTD       533\n",
       "MORGANS FINANCIAL LIMITED                    504\n",
       "                                            ... \n",
       "ANDREW MCLACHLAN                               1\n",
       "MCEWEN INVESTMENT SERVICES PTY LIMITED         1\n",
       "WOMEN'S FINANCIAL NETWORK PTY. LTD.            1\n",
       "BASTION SUPERANNUATION SOLUTIONS PTY LTD       1\n",
       "SUPERFECT PTY LTD                              1\n",
       "Name: Licensee, Length: 2203, dtype: int64"
      ]
     },
     "execution_count": 16,
     "metadata": {},
     "output_type": "execute_result"
    }
   ],
   "source": [
    "current_adviser_afsl = notnull.loc[notnull[\"Current/Ceased\"] == 'Current', \"Licensee\"]\n",
    "current_adviser_afsl\n",
    "current_counts = current_adviser_afsl.value_counts()\n",
    "AFSL_numbers = current_counts.count()\n",
    "print(AFSL_numbers)\n",
    "current_counts"
   ]
  },
  {
   "cell_type": "markdown",
   "metadata": {},
   "source": [
    "The above yields some interesting results. The big players are as expected - AMP, Charter, Synchron. Other major points of interest are the SMSF Advisers Network (for accountants giving AFSL advice). Notably we have 23,482 registered advisera and 2203 registered AFSLs - approximately 10 advisers per AFSL on average."
   ]
  },
  {
   "cell_type": "code",
   "execution_count": 17,
   "metadata": {},
   "outputs": [
    {
     "data": {
      "text/plain": [
       "AMP FINANCIAL PLANNING PTY LIMITED          0.046717\n",
       "SMSF ADVISERS NETWORK PTY LTD               0.037390\n",
       "CHARTER FINANCIAL PLANNING LIMITED          0.023507\n",
       "SYNCHRONISED BUSINESS SERVICES PTY LTD      0.022698\n",
       "MORGANS FINANCIAL LIMITED                   0.021463\n",
       "                                              ...   \n",
       "ANDREW MCLACHLAN                            0.000043\n",
       "MCEWEN INVESTMENT SERVICES PTY LIMITED      0.000043\n",
       "WOMEN'S FINANCIAL NETWORK PTY. LTD.         0.000043\n",
       "BASTION SUPERANNUATION SOLUTIONS PTY LTD    0.000043\n",
       "SUPERFECT PTY LTD                           0.000043\n",
       "Name: Licensee, Length: 2203, dtype: float64"
      ]
     },
     "execution_count": 17,
     "metadata": {},
     "output_type": "execute_result"
    }
   ],
   "source": [
    "norm_counts = current_adviser_afsl.value_counts(normalize=True)\n",
    "norm_counts"
   ]
  },
  {
   "cell_type": "markdown",
   "metadata": {},
   "source": [
    "This also opens up some interesting points. AMP is the largest player (AMP also owns Charter, bringing it to a total of nearly 7% of the Australian FP market by numbers)."
   ]
  },
  {
   "cell_type": "code",
   "execution_count": 18,
   "metadata": {},
   "outputs": [
    {
     "data": {
      "image/png": "[encoded data removed]",
      "text/plain": [
       "<Figure size 432x288 with 1 Axes>"
      ]
     },
     "metadata": {
      "needs_background": "light"
     },
     "output_type": "display_data"
    }
   ],
   "source": [
    "industry_spread = plt.hist(current_counts, bins = 40)"
   ]
  },
  {
   "cell_type": "markdown",
   "metadata": {},
   "source": [
    "This histogram serves really only to highlight the disparity in advisers. Once we move past one or two advisers, the number of AFSLs is fairly low."
   ]
  },
  {
   "cell_type": "code",
   "execution_count": 19,
   "metadata": {},
   "outputs": [
    {
     "data": {
      "image/png": "[encoded data removed]",
      "text/plain": [
       "<Figure size 432x288 with 1 Axes>"
      ]
     },
     "metadata": {
      "needs_background": "light"
     },
     "output_type": "display_data"
    }
   ],
   "source": [
    "industry_spread = plt.hist(current_counts, bins = 25, range = (1, 50))"
   ]
  },
  {
   "cell_type": "code",
   "execution_count": 20,
   "metadata": {},
   "outputs": [
    {
     "data": {
      "image/png": "[encoded data removed]",
      "text/plain": [
       "<Figure size 432x288 with 1 Axes>"
      ]
     },
     "metadata": {
      "needs_background": "light"
     },
     "output_type": "display_data"
    }
   ],
   "source": [
    "industry_spread = plt.hist(current_counts, bins = 10, range = (1, 10))"
   ]
  },
  {
   "cell_type": "markdown",
   "metadata": {},
   "source": [
    "A little more context. We can see more of a pattern among the lower-number AFSLs."
   ]
  },
  {
   "cell_type": "code",
   "execution_count": 21,
   "metadata": {},
   "outputs": [
    {
     "data": {
      "image/png": "[encoded data removed]",
      "text/plain": [
       "<Figure size 432x288 with 1 Axes>"
      ]
     },
     "metadata": {
      "needs_background": "light"
     },
     "output_type": "display_data"
    }
   ],
   "source": [
    "industry_spread = plt.hist(current_counts, bins = 1097, density =True, cumulative=True)"
   ]
  },
  {
   "cell_type": "markdown",
   "metadata": {},
   "source": [
    "Here we see a density plot - we get *very* close to 100% of all AFSLs under 200 advisers. Let's try and look at it in a little more detail."
   ]
  },
  {
   "cell_type": "code",
   "execution_count": 22,
   "metadata": {},
   "outputs": [
    {
     "name": "stdout",
     "output_type": "stream",
     "text": [
      "5.9% of advisers are held by the bottom 50% of firms\n",
      "7.5% of advisers are held by the next 25% of firms\n",
      "10.5% of advisers are held by the next 15% of firms\n",
      "Overall, 23.9% of advisers are held by the bottom 90% of firms\n",
      "9.4% of advisers are held by the 90-95% percentile of firms\n",
      "66.7% of advisers are held by the top 5% firms\n",
      "Separating out the top 5% of firms some more:\n",
      "14.3% of advisers are held by firms ranking 50-110 in size.\n",
      "4.4% of advisers are held by firms ranking 41-50 in size.\n",
      "6.3% of advisers are held by firms ranking 31-40 in size.\n",
      "8.6% of advisers are held by firms ranking 21-30 in size.\n",
      "11.1% of advisers are held by firms ranking 11-20 in size.\n",
      "22.0% of advisers are held by firms ranking 1-10 in size.\n"
     ]
    }
   ],
   "source": [
    "print(str(round(norm_counts[-1102:].sum()*100, 1)) + \"% of advisers are held by the bottom 50% of firms\")\n",
    "\n",
    "print(str(round(norm_counts[-1652:-1102:].sum()*100, 1)) + \"% of advisers are held by the next 25% of firms\")\n",
    "\n",
    "print(str(round(norm_counts[-1982:-1652].sum()*100, 1)) + \"% of advisers are held by the next 15% of firms\")\n",
    "\n",
    "print(\"Overall, \" + str(round(norm_counts[-1982:].sum()*100, 1)) + \"% of advisers are held by the bottom 90% of firms\")\n",
    "\n",
    "print(str(round(norm_counts[-2092:-1982:].sum()*100, 1)) + \"% of advisers are held by the 90-95% percentile of firms\")\n",
    "\n",
    "print(str(round(norm_counts[-2203:-2092:].sum()*100, 1)) + \"% of advisers are held by the top 5% firms\")\n",
    "\n",
    "print(\"Separating out the top 5% of firms some more:\")\n",
    "\n",
    "print(str(round(norm_counts[-2153:-2093:].sum()*100, 1)) + \"% of advisers are held by firms ranking 50-110 in size.\")\n",
    "\n",
    "print(str(round(norm_counts[-2163:-2153:].sum()*100, 1)) + \"% of advisers are held by firms ranking 41-50 in size.\")\n",
    "\n",
    "print(str(round(norm_counts[-2173:-2163:].sum()*100, 1)) + \"% of advisers are held by firms ranking 31-40 in size.\")\n",
    "\n",
    "print(str(round(norm_counts[-2183:-2173:].sum()*100, 1)) + \"% of advisers are held by firms ranking 21-30 in size.\")\n",
    "\n",
    "print(str(round(norm_counts[-2193:-2183:].sum()*100, 1)) + \"% of advisers are held by firms ranking 11-20 in size.\")\n",
    "\n",
    "print(str(round(norm_counts[-2203:-2193:].sum()*100, 1)) + \"% of advisers are held by firms ranking 1-10 in size.\")"
   ]
  },
  {
   "cell_type": "markdown",
   "metadata": {},
   "source": [
    "The above is interesting - the top 10 firms hold roughly as many advisers as the bottom 90% of *all* firms. But how big are those firms? "
   ]
  },
  {
   "cell_type": "code",
   "execution_count": 23,
   "metadata": {},
   "outputs": [
    {
     "data": {
      "text/plain": [
       "0.300      1.00\n",
       "0.400      2.00\n",
       "0.500      2.00\n",
       "0.600      3.00\n",
       "0.700      4.00\n",
       "0.800      6.00\n",
       "0.900     12.00\n",
       "0.925     17.00\n",
       "0.950     34.90\n",
       "0.975     82.00\n",
       "0.990    204.98\n",
       "Name: Licensee, dtype: float64"
      ]
     },
     "execution_count": 23,
     "metadata": {},
     "output_type": "execute_result"
    }
   ],
   "source": [
    "current_counts.quantile(q=[0.3, 0.4, 0.5, 0.6, 0.7, 0.8, 0.9, 0.925, 0.95, 0.975, 0.99])"
   ]
  },
  {
   "cell_type": "markdown",
   "metadata": {},
   "source": [
    "So looking at these quantiles, the bottom 30% of firms are all single adviser (likely self-licensed) AFSLs. The next 20% are all 2 members, and it's only after we reach the top 40% of firms we see firms with more than two advisers. The increase is massively exponential - the market is perhaps a little analogous to super funds - a lot of smaller players and a few very large ones."
   ]
  },
  {
   "cell_type": "code",
   "execution_count": 24,
   "metadata": {},
   "outputs": [],
   "source": [
    "# Making start and end date columns into datetimes.\n",
    "FA2020Apr['Start Date'] =  pd.to_datetime(FA2020Apr['Start Date'], format = '%d/%m/%y')\n",
    "FA2020Apr['End Date'] =  pd.to_datetime(FA2020Apr['End Date'], format = '%d/%m/%y')"
   ]
  },
  {
   "cell_type": "code",
   "execution_count": 25,
   "metadata": {},
   "outputs": [
    {
     "name": "stdout",
     "output_type": "stream",
     "text": [
      "<class 'pandas.core.frame.DataFrame'>\n",
      "RangeIndex: 69885 entries, 0 to 69884\n",
      "Data columns (total 10 columns):\n",
      " #   Column                 Non-Null Count  Dtype         \n",
      "---  ------                 --------------  -----         \n",
      " 0   Name                   69885 non-null  object        \n",
      " 1   Adviser Number         69885 non-null  int64         \n",
      " 2   Current/Ceased         69885 non-null  object        \n",
      " 3   First Provided Advice  69878 non-null  float64       \n",
      " 4   Licensee               69885 non-null  object        \n",
      " 5   AFS License Number     69885 non-null  int64         \n",
      " 6   AFSL ABN               65822 non-null  object        \n",
      " 7   Licensee Controller    48664 non-null  object        \n",
      " 8   Start Date             69885 non-null  datetime64[ns]\n",
      " 9   End Date               46396 non-null  datetime64[ns]\n",
      "dtypes: datetime64[ns](2), float64(1), int64(2), object(5)\n",
      "memory usage: 5.3+ MB\n"
     ]
    }
   ],
   "source": [
    "# Confirming the above worked\n",
    "FA2020Apr.info()"
   ]
  },
  {
   "cell_type": "code",
   "execution_count": 26,
   "metadata": {},
   "outputs": [
    {
     "data": {
      "text/plain": [
       "INTERPRAC FINANCIAL PLANNING PTY LTD        41\n",
       "INSIGHT INVESTMENT SERVICES PTY LTD         40\n",
       "FORTNUM PRIVATE WEALTH LTD                  20\n",
       "WYNDHAM VACATION CLUBS SOUTH PACIFIC LTD    16\n",
       "LIFESPAN FINANCIAL PLANNING PTY LTD         15\n",
       "                                            ..\n",
       "IFS PRIVATE WEALTH PTY LTD                   1\n",
       "COMMONWEALTH FINANCIAL PLANNING LIMITED      1\n",
       "FORBES AFSL PTY LTD                          1\n",
       "SIRA GROUP PTY LTD                           1\n",
       "IPRAXIS PTY LTD                              1\n",
       "Name: Licensee, Length: 140, dtype: int64"
      ]
     },
     "execution_count": 26,
     "metadata": {},
     "output_type": "execute_result"
    }
   ],
   "source": [
    "# Exploring the new financial advisers in March\n",
    "\n",
    "new_FA2020March = FA2020Apr[FA2020Apr['Start Date'] >= np.datetime64('2020-03-01')]\n",
    "\n",
    "NFA320 = new_FA2020March['Licensee'].value_counts()\n",
    "\n",
    "NFA320"
   ]
  },
  {
   "cell_type": "code",
   "execution_count": 27,
   "metadata": {},
   "outputs": [
    {
     "data": {
      "text/plain": [
       "WYNDHAM VACATION CLUBS SOUTH PACIFIC LTD           63\n",
       "FINANCIAL WISDOM LIMITED                           58\n",
       "YELLOW BRICK ROAD WEALTH MANAGEMENT PTY LIMITED    44\n",
       "AUSURE PTY LTD                                     35\n",
       "AMP FINANCIAL PLANNING PTY LIMITED                 31\n",
       "                                                   ..\n",
       "AUSTRALIAN FINANCIAL PLANNING GROUP PTY LIMITED     1\n",
       "BONES ACCOUNTING PTY LTD                            1\n",
       "ORD MINNETT LIMITED                                 1\n",
       "ROSKOW INDEPENDENT ADVISORY PTY LTD                 1\n",
       "ZENITH REPRESENTATIVES PTY LTD                      1\n",
       "Name: Licensee, Length: 204, dtype: int64"
      ]
     },
     "execution_count": 27,
     "metadata": {},
     "output_type": "execute_result"
    }
   ],
   "source": [
    "# Those advisers leaving in March\n",
    "\n",
    "leave_FA2020March = FA2020Apr[FA2020Apr['End Date'] >= np.datetime64('2020-03-01')]\n",
    "\n",
    "LFA320 = leave_FA2020March['Licensee'].value_counts()\n",
    "\n",
    "LFA320\n",
    "\n"
   ]
  },
  {
   "cell_type": "code",
   "execution_count": 28,
   "metadata": {},
   "outputs": [
    {
     "data": {
      "text/plain": [
       "FINANCIAL WISDOM LIMITED                          -58.0\n",
       "WYNDHAM VACATION CLUBS SOUTH PACIFIC LTD          -47.0\n",
       "YELLOW BRICK ROAD WEALTH MANAGEMENT PTY LIMITED   -43.0\n",
       "AUSURE PTY LTD                                    -35.0\n",
       "COUNT FINANCIAL LIMITED                           -22.0\n",
       "                                                   ... \n",
       "MILLENNIUM 3 FINANCIAL SERVICES PTY LTD            10.0\n",
       "LIFESPAN FINANCIAL PLANNING PTY LTD                11.0\n",
       "FORTNUM PRIVATE WEALTH LTD                         15.0\n",
       "INTERPRAC FINANCIAL PLANNING PTY LTD               38.0\n",
       "INSIGHT INVESTMENT SERVICES PTY LTD                39.0\n",
       "Name: Licensee, Length: 277, dtype: float64"
      ]
     },
     "execution_count": 28,
     "metadata": {},
     "output_type": "execute_result"
    }
   ],
   "source": [
    "deltaFA320 = LFA320 - NFA320\n",
    "\n",
    "for i in deltaFA320.index: # Need an empty series with all the AFSL names.\n",
    "    deltaFA320[i] = 0 \n",
    "\n",
    "for i in NFA320.index: # If we sum series, get lots of NaN. Need to sum piecewise.\n",
    "    deltaFA320[i] += NFA320[i]\n",
    "    \n",
    "for i in LFA320.index: \n",
    "    deltaFA320[i] -= LFA320[i] # As above but for subtracting adviser losses.\n",
    "    \n",
    "deltaFA320.sort_values()\n",
    "\n"
   ]
  },
  {
   "cell_type": "code",
   "execution_count": 29,
   "metadata": {},
   "outputs": [],
   "source": [
    "# Let's analyse on a yearly basis.\n",
    "start_FA2019 = FA2020Apr[(FA2020Apr['Start Date'] <= np.datetime64('2019-12-31')) \n",
    "                         & (FA2020Apr['Start Date'] >= np.datetime64('2019-01-01'))]\n",
    "leave_FA2019 = FA2020Apr[(FA2020Apr['End Date'] <= np.datetime64('2019-12-31')) \n",
    "                         & (FA2020Apr['End Date'] >= np.datetime64('2019-01-01'))]"
   ]
  },
  {
   "cell_type": "code",
   "execution_count": 30,
   "metadata": {},
   "outputs": [],
   "source": [
    "NFA2019 = start_FA2019['Licensee'].value_counts()\n",
    "LFA2019 = leave_FA2019['Licensee'].value_counts()"
   ]
  },
  {
   "cell_type": "code",
   "execution_count": 31,
   "metadata": {},
   "outputs": [
    {
     "data": {
      "text/plain": [
       "WYNDHAM VACATION CLUBS SOUTH PACIFIC LTD            270\n",
       "STATE SUPER FINANCIAL SERVICES AUSTRALIA LIMITED    262\n",
       "VIRIDIAN ADVISORY PTY LTD                           127\n",
       "SYNCHRONISED BUSINESS SERVICES PTY LTD              123\n",
       "FORTNUM PRIVATE WEALTH LTD                          110\n",
       "                                                   ... \n",
       "DOMINIUM CAPITAL PTY. LTD.                            1\n",
       "TRUWEALTH GROUP PTY LTD                               1\n",
       "LIPMAN BURGON AND PARTNERS PTY LIMITED                1\n",
       "PROFESSIONAL WEALTH SERVICES PTY LTD                  1\n",
       "LINK FINANCIAL SERVICES PTY LTD                       1\n",
       "Name: Licensee, Length: 610, dtype: int64"
      ]
     },
     "execution_count": 31,
     "metadata": {},
     "output_type": "execute_result"
    }
   ],
   "source": [
    "# Checking to see if this works.\n",
    "NFA2019"
   ]
  },
  {
   "cell_type": "code",
   "execution_count": 32,
   "metadata": {},
   "outputs": [
    {
     "data": {
      "text/plain": [
       "COMMONWEALTH FINANCIAL PLANNING LIMITED             405\n",
       "WYNDHAM VACATION CLUBS SOUTH PACIFIC LTD            361\n",
       "WESTPAC BANKING CORPORATION                         350\n",
       "AMP FINANCIAL PLANNING PTY LIMITED                  307\n",
       "STATE SUPER FINANCIAL SERVICES AUSTRALIA LIMITED    300\n",
       "                                                   ... \n",
       "NEWELL PALMER SECURITIES PTY LTD                      1\n",
       "INTEGRATED FINANCIAL ADVICE PTY LTD                   1\n",
       "SHANNON BELL                                          1\n",
       "ANNE ELIZABETH PETERSEN                               1\n",
       "CEZANNE INVESTMENT PRODUCT MANAGEMENT PTY LTD         1\n",
       "Name: Licensee, Length: 893, dtype: int64"
      ]
     },
     "execution_count": 32,
     "metadata": {},
     "output_type": "execute_result"
    }
   ],
   "source": [
    "LFA2019"
   ]
  },
  {
   "cell_type": "code",
   "execution_count": 33,
   "metadata": {},
   "outputs": [],
   "source": [
    "deltaFA2019 = (start_FA2019['Licensee'].value_counts() \n",
    "               - leave_FA2019['Licensee'].value_counts())"
   ]
  },
  {
   "cell_type": "code",
   "execution_count": 34,
   "metadata": {},
   "outputs": [
    {
     "data": {
      "text/plain": [
       "100 DOORS PTY. LTD.                        NaN\n",
       "314 FINANCIAL PARTNERSHIP PTY LTD          NaN\n",
       "360PRIVATE WEALTH BY DESIGN PTY LIMITED    NaN\n",
       "3CSG PTY LTD                               NaN\n",
       "3D SUPER PTY LTD                           NaN\n",
       "                                          ... \n",
       "YX BALL FINANCIAL PTY LTD                  NaN\n",
       "ZEBRA FINANCIAL SERVICES PTY LTD           NaN\n",
       "ZENITH PLANNING PTY LTD                    NaN\n",
       "ZENITH REPRESENTATIVES PTY LTD             NaN\n",
       "ZEST AFSL PTY LTD                          5.0\n",
       "Name: Licensee, Length: 1092, dtype: float64"
      ]
     },
     "execution_count": 34,
     "metadata": {},
     "output_type": "execute_result"
    }
   ],
   "source": [
    "# An example to show why we can't just add and subtract series - this gives us NaN\n",
    "# for anything not in the intersection of start_FA2019 and leave_FA2019. \n",
    "deltaFA2019"
   ]
  },
  {
   "cell_type": "code",
   "execution_count": 35,
   "metadata": {},
   "outputs": [],
   "source": [
    "deltaFA2019 = LFA2019 - NFA2019 # Gives us a union of the two in terms of index values.\n",
    "\n",
    "for i in deltaFA2019.index:\n",
    "    deltaFA2019[i] = 0 # Just getting an empty series with all the companies with any sort of change in March\n",
    "\n",
    "for i in NFA2019.index: \n",
    "    deltaFA2019[i] += NFA2019[i] # Time to add all the new financial advisers. Just summing series means that any non-shared\n",
    "                                # values will generate a new NaN each time, so need to do it bit by bit.\n",
    "for i in LFA2019.index: \n",
    "    deltaFA2019[i] -= LFA2019[i] # Same but for loss of financial advisers.\n",
    "    \n",
    "DFA2019sort = deltaFA2019.sort_values()"
   ]
  },
  {
   "cell_type": "code",
   "execution_count": 36,
   "metadata": {},
   "outputs": [
    {
     "data": {
      "text/plain": [
       "True"
      ]
     },
     "execution_count": 36,
     "metadata": {},
     "output_type": "execute_result"
    }
   ],
   "source": [
    "# Checking to see if these two are exactly the same.\n",
    "DFA2019sort.equals(DFA2019sort.dropna())"
   ]
  },
  {
   "cell_type": "code",
   "execution_count": 37,
   "metadata": {},
   "outputs": [
    {
     "data": {
      "text/plain": [
       "COMMONWEALTH FINANCIAL PLANNING LIMITED   -385.0\n",
       "WESTPAC BANKING CORPORATION               -349.0\n",
       "SECURITOR FINANCIAL GROUP LTD             -245.0\n",
       "AMP FINANCIAL PLANNING PTY LIMITED        -240.0\n",
       "FINANCIAL WISDOM LIMITED                  -205.0\n",
       "AON HEWITT FINANCIAL ADVICE LIMITED       -185.0\n",
       "NATIONAL AUSTRALIA BANK LIMITED           -177.0\n",
       "SMSF ADVISERS NETWORK PTY LTD             -170.0\n",
       "COUNT FINANCIAL LIMITED                   -133.0\n",
       "GWM ADVISER SERVICES LIMITED              -133.0\n",
       "Name: Licensee, dtype: float64"
      ]
     },
     "execution_count": 37,
     "metadata": {},
     "output_type": "execute_result"
    }
   ],
   "source": [
    "DFA2019sort[0:10]"
   ]
  },
  {
   "cell_type": "markdown",
   "metadata": {},
   "source": [
    "Starting to get the meat of things. We can see in 2019 the biggest drops in advisers were from Commonwealth Financial Planning and Westpac - these notably had major scandals followed by partial or total exits from the financial planning business in that year."
   ]
  },
  {
   "cell_type": "code",
   "execution_count": 38,
   "metadata": {},
   "outputs": [
    {
     "name": "stdout",
     "output_type": "stream",
     "text": [
      "Viridian 121\n",
      "Fortnum 214\n"
     ]
    },
    {
     "data": {
      "text/plain": [
       "ADVICE EVOLUTION PTY LTD                        32.0\n",
       "CAPSTONE FINANCIAL PLANNING PTY LTD             33.0\n",
       "SHAW AND PARTNERS FINANCIAL PLANNING PTY LTD    35.0\n",
       "AFFINIA FINANCIAL ADVISERS LIMITED              37.0\n",
       "OREANA FINANCIAL SERVICES PTY LTD               37.0\n",
       "ALLIANCE WEALTH PTY LTD                         40.0\n",
       "CONSILIUM ADVICE PTY LTD                        71.0\n",
       "MACQUARIE BANK LIMITED                          79.0\n",
       "VIRIDIAN ADVISORY PTY LTD                       79.0\n",
       "FORTNUM PRIVATE WEALTH LTD                      82.0\n",
       "Name: Licensee, dtype: float64"
      ]
     },
     "execution_count": 38,
     "metadata": {},
     "output_type": "execute_result"
    }
   ],
   "source": [
    "print(\"Viridian \" + str(current_counts[\"VIRIDIAN ADVISORY PTY LTD\"]))\n",
    "print(\"Fortnum \" + str(current_counts[\"FORTNUM PRIVATE WEALTH LTD\"]))\n",
    "DFA2019sort[-10:]"
   ]
  },
  {
   "cell_type": "markdown",
   "metadata": {},
   "source": [
    "Conversely, we can see Fortnum went up in numbers considerably. However, it's notable that in 2019 our larger losses totally eclipsed gains."
   ]
  },
  {
   "cell_type": "code",
   "execution_count": 39,
   "metadata": {},
   "outputs": [
    {
     "data": {
      "text/plain": [
       "count    1092.000000\n",
       "mean       -4.139194\n",
       "std        25.802977\n",
       "min      -385.000000\n",
       "25%        -2.000000\n",
       "50%        -1.000000\n",
       "75%         1.000000\n",
       "max        82.000000\n",
       "Name: Licensee, dtype: float64"
      ]
     },
     "execution_count": 39,
     "metadata": {},
     "output_type": "execute_result"
    }
   ],
   "source": [
    "DFA2019sort.describe()"
   ]
  },
  {
   "cell_type": "markdown",
   "metadata": {},
   "source": [
    "An overall look at 2019. The average licensee lost 4 advisers, though the variation in losses and gains was fairly wide. Interestingly the *median* AFSL lost an adviser, and only at the 75% mark do we see a gain. "
   ]
  },
  {
   "cell_type": "code",
   "execution_count": 40,
   "metadata": {},
   "outputs": [],
   "source": [
    "# Time to do this with functions. One function to return the number of advisers per AFSL on a given date.\n",
    "\n",
    "def advisers_on_date(adviserdate):\n",
    "    i = FA2020Apr[(FA2020Apr['Start Date'] <= np.datetime64(adviserdate)) \n",
    "                  & ((FA2020Apr['End Date'] >= np.datetime64(adviserdate)) | (FA2020Apr['Current/Ceased'] == 'Current'))]\n",
    "    return i"
   ]
  },
  {
   "cell_type": "code",
   "execution_count": 41,
   "metadata": {},
   "outputs": [],
   "source": [
    "# This returns a dataframe with a number of series as per advisers_on_date. It returns \n",
    "\n",
    "def many_dates(adviserdate, between, repetitions):\n",
    "    manydates = {}\n",
    "    adviserdate = np.datetime64(adviserdate)\n",
    "    between = pd.Timedelta(days = between)\n",
    "    # If between is added to adviserdate at end of loop, it throws a peculiar error.\n",
    "    # De-incremented adviserdate by between to compensate and increment at start of loop.\n",
    "    adviserdate = adviserdate - between \n",
    "    for x in range(0,repetitions):\n",
    "        adviserdate = adviserdate + between\n",
    "        if x == 0:\n",
    "            newseries = advisers_on_date(adviserdate)\n",
    "            newseries = newseries['Licensee'].value_counts()\n",
    "            manydates[adviserdate] = newseries\n",
    "        else: \n",
    "            newseries = advisers_on_date(adviserdate)\n",
    "            newseries = newseries['Licensee'].value_counts()\n",
    "            manydates[adviserdate] = newseries\n",
    "    manydates = pd.DataFrame(data=manydates)\n",
    "    manydates.fillna(0, inplace = True) \n",
    "    return manydates\n",
    "\n"
   ]
  },
  {
   "cell_type": "code",
   "execution_count": 42,
   "metadata": {},
   "outputs": [],
   "source": [
    "# Returns differences in adviser numbers between two dates.\n",
    "\n",
    "def adviser_delta(date1, date2):\n",
    "    start = FA2020Apr[(FA2020Apr['Start Date'] <= np.datetime64(date2)) & (FA2020Apr['Start Date'] >= np.datetime64(date1))]\n",
    "    end = FA2020Apr[(FA2020Apr['End Date'] <= np.datetime64(date2)) & (FA2020Apr['End Date'] >= np.datetime64(date1))]\n",
    "    NFA = start['Licensee'].value_counts()\n",
    "    LFA = end['Licensee'].value_counts()\n",
    "    DFA = LFA - NFA\n",
    "\n",
    "    for i in DFA.index:\n",
    "        DFA[i] = 0\n",
    "\n",
    "    for i in NFA.index: \n",
    "        DFA[i] += NFA[i] \n",
    "        \n",
    "    for i in LFA.index: \n",
    "        DFA[i] -= LFA[i]\n",
    "        \n",
    "    return DFA"
   ]
  },
  {
   "cell_type": "code",
   "execution_count": 43,
   "metadata": {},
   "outputs": [],
   "source": [
    "# Essentially as many_dates - returns m\n",
    "\n",
    "def many_deltas(adviserdate, between, repetitions):\n",
    "    manydeltas = {}\n",
    "    adviserdate = np.datetime64(adviserdate)\n",
    "    between = pd.Timedelta(days = between)\n",
    "    adviserdate = adviserdate - between \n",
    "    for x in range(0,repetitions):\n",
    "        adviserdate = adviserdate + between\n",
    "        adviserend = adviserdate + between\n",
    "        if x == 0:\n",
    "            newseries = adviser_delta(adviserdate, adviserend)\n",
    "            manydeltas[adviserdate] = newseries\n",
    "        else: \n",
    "            newseries = adviser_delta(adviserdate, adviserend)\n",
    "            manydeltas[adviserdate] = newseries\n",
    "        \n",
    "    manydeltas = pd.DataFrame(data= manydeltas)\n",
    "    manydeltas.fillna(0, inplace = True) \n",
    "    return manydeltas\n",
    "\n"
   ]
  },
  {
   "cell_type": "code",
   "execution_count": 44,
   "metadata": {},
   "outputs": [
    {
     "data": {
      "image/png": "[encoded data removed]",
      "text/plain": [
       "<Figure size 1584x1080 with 10 Axes>"
      ]
     },
     "metadata": {
      "needs_background": "light"
     },
     "output_type": "display_data"
    }
   ],
   "source": [
    "lastdecade = many_dates('2010-01-01', 365, 10)\n",
    "lastdecade = lastdecade.sort_values(by=['2010-01-01'], ascending=False)\n",
    "\n",
    "lastdecade[0:10].plot.bar(subplots=True, figsize=(22, 15), layout=(5, 2), color=[plt.cm.Paired(np.arange(len(lastdecade[0:10])))]);\n",
    "\n",
    "lastdecadeT = lastdecade.T"
   ]
  },
  {
   "cell_type": "code",
   "execution_count": 45,
   "metadata": {},
   "outputs": [
    {
     "data": {
      "text/plain": [
       "{Timestamp('2010-01-01 00:00:00'): AMP FINANCIAL PLANNING PTY LIMITED          958.0\n",
       " PROFESSIONAL INVESTMENT SERVICES PTY LTD    520.0\n",
       " COUNT FINANCIAL LIMITED                     520.0\n",
       " COMMONWEALTH FINANCIAL PLANNING LIMITED     384.0\n",
       " NATIONAL AUSTRALIA BANK LIMITED             367.0\n",
       " Name: 2010-01-01 00:00:00, dtype: float64,\n",
       " Timestamp('2011-01-01 00:00:00'): AMP FINANCIAL PLANNING PTY LIMITED          1084.0\n",
       " PROFESSIONAL INVESTMENT SERVICES PTY LTD     540.0\n",
       " COUNT FINANCIAL LIMITED                      528.0\n",
       " COMMONWEALTH FINANCIAL PLANNING LIMITED      495.0\n",
       " NATIONAL AUSTRALIA BANK LIMITED              456.0\n",
       " Name: 2011-01-01 00:00:00, dtype: float64,\n",
       " Timestamp('2012-01-01 00:00:00'): AMP FINANCIAL PLANNING PTY LIMITED          1262.0\n",
       " COMMONWEALTH FINANCIAL PLANNING LIMITED      535.0\n",
       " PROFESSIONAL INVESTMENT SERVICES PTY LTD     528.0\n",
       " NATIONAL AUSTRALIA BANK LIMITED              526.0\n",
       " COUNT FINANCIAL LIMITED                      508.0\n",
       " Name: 2012-01-01 00:00:00, dtype: float64,\n",
       " Timestamp('2012-12-31 00:00:00'): AMP FINANCIAL PLANNING PTY LIMITED         1398.0\n",
       " CHARTER FINANCIAL PLANNING LIMITED          656.0\n",
       " COMMONWEALTH FINANCIAL PLANNING LIMITED     607.0\n",
       " NATIONAL AUSTRALIA BANK LIMITED             544.0\n",
       " GWM ADVISER SERVICES LIMITED                514.0\n",
       " Name: 2012-12-31 00:00:00, dtype: float64,\n",
       " Timestamp('2013-12-31 00:00:00'): AMP FINANCIAL PLANNING PTY LIMITED         1574.0\n",
       " CHARTER FINANCIAL PLANNING LIMITED          739.0\n",
       " COMMONWEALTH FINANCIAL PLANNING LIMITED     647.0\n",
       " GWM ADVISER SERVICES LIMITED                540.0\n",
       " NATIONAL AUSTRALIA BANK LIMITED             528.0\n",
       " Name: 2013-12-31 00:00:00, dtype: float64,\n",
       " Timestamp('2014-12-31 00:00:00'): AMP FINANCIAL PLANNING PTY LIMITED         1741.0\n",
       " CHARTER FINANCIAL PLANNING LIMITED          807.0\n",
       " COMMONWEALTH FINANCIAL PLANNING LIMITED     734.0\n",
       " NATIONAL AUSTRALIA BANK LIMITED             613.0\n",
       " WESTPAC BANKING CORPORATION                 579.0\n",
       " Name: 2014-12-31 00:00:00, dtype: float64,\n",
       " Timestamp('2015-12-31 00:00:00'): AMP FINANCIAL PLANNING PTY LIMITED         1692.0\n",
       " CHARTER FINANCIAL PLANNING LIMITED          907.0\n",
       " NATIONAL AUSTRALIA BANK LIMITED             654.0\n",
       " COMMONWEALTH FINANCIAL PLANNING LIMITED     650.0\n",
       " WESTPAC BANKING CORPORATION                 571.0\n",
       " Name: 2015-12-31 00:00:00, dtype: float64,\n",
       " Timestamp('2016-12-30 00:00:00'): AMP FINANCIAL PLANNING PTY LIMITED         1578.0\n",
       " CHARTER FINANCIAL PLANNING LIMITED          795.0\n",
       " COMMONWEALTH FINANCIAL PLANNING LIMITED     714.0\n",
       " SMSF ADVISERS NETWORK PTY LTD               633.0\n",
       " COUNT FINANCIAL LIMITED                     604.0\n",
       " Name: 2016-12-30 00:00:00, dtype: float64,\n",
       " Timestamp('2017-12-30 00:00:00'): AMP FINANCIAL PLANNING PTY LIMITED         1500.0\n",
       " SMSF ADVISERS NETWORK PTY LTD               822.0\n",
       " CHARTER FINANCIAL PLANNING LIMITED          716.0\n",
       " COMMONWEALTH FINANCIAL PLANNING LIMITED     678.0\n",
       " COUNT FINANCIAL LIMITED                     528.0\n",
       " Name: 2017-12-30 00:00:00, dtype: float64,\n",
       " Timestamp('2018-12-30 00:00:00'): AMP FINANCIAL PLANNING PTY LIMITED         1398.0\n",
       " SMSF ADVISERS NETWORK PTY LTD              1083.0\n",
       " COMMONWEALTH FINANCIAL PLANNING LIMITED     731.0\n",
       " CHARTER FINANCIAL PLANNING LIMITED          704.0\n",
       " NATIONAL AUSTRALIA BANK LIMITED             512.0\n",
       " Name: 2018-12-30 00:00:00, dtype: float64}"
      ]
     },
     "execution_count": 45,
     "metadata": {},
     "output_type": "execute_result"
    }
   ],
   "source": [
    "# Function for returning top x values of each given column.\n",
    "def topx(dataframe, x):\n",
    "    topvalues = {}\n",
    "    for i in dataframe:\n",
    "        topvalues[i] = dataframe[i].sort_values(ascending=False)[0:x]\n",
    "    return topvalues\n",
    "\n",
    "topx(lastdecade, 5)"
   ]
  },
  {
   "cell_type": "code",
   "execution_count": null,
   "metadata": {},
   "outputs": [],
   "source": []
  }
 ],
 "metadata": {
  "kernelspec": {
   "display_name": "Python 3",
   "language": "python",
   "name": "python3"
  },
  "language_info": {
   "codemirror_mode": {
    "name": "ipython",
    "version": 3
   },
   "file_extension": ".py",
   "mimetype": "text/x-python",
   "name": "python",
   "nbconvert_exporter": "python",
   "pygments_lexer": "ipython3",
   "version": "3.7.6"
  }
 },
 "nbformat": 4,
 "nbformat_minor": 4
}
